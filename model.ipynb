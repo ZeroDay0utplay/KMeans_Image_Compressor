{
 "cells": [
  {
   "cell_type": "markdown",
   "id": "52783123",
   "metadata": {},
   "source": [
    "# Importing Libraries"
   ]
  },
  {
   "cell_type": "code",
   "execution_count": 1,
   "id": "e57fc25f",
   "metadata": {},
   "outputs": [],
   "source": [
    "import numpy as np\n",
    "import pandas as pd\n",
    "import matplotlib.pyplot as plt\n",
    "from PIL import Image\n",
    "import os"
   ]
  },
  {
   "cell_type": "markdown",
   "id": "7930c02e",
   "metadata": {},
   "source": [
    "# Read the image"
   ]
  },
  {
   "cell_type": "code",
   "execution_count": 2,
   "id": "71ac637b",
   "metadata": {},
   "outputs": [],
   "source": [
    "image_path = \"src/me2.jpg\"\n",
    "compressed_img = \"\".join(image_path.split(\".\")[:-1]) + \"_compressed.\" + \"\".join(image_path.split(\".\")[-1])\n",
    "image = Image.open(image_path)\n",
    "image = image.resize((128, 128))"
   ]
  },
  {
   "cell_type": "markdown",
   "id": "83263708",
   "metadata": {},
   "source": [
    "# Display the image"
   ]
  },
  {
   "cell_type": "code",
   "execution_count": 3,
   "id": "34681932",
   "metadata": {},
   "outputs": [
    {
     "data": {
      "image/jpeg": "[encoded data removed]",
      "text/plain": [
       "<IPython.core.display.Image object>"
      ]
     },
     "execution_count": 3,
     "metadata": {},
     "output_type": "execute_result"
    }
   ],
   "source": [
    "from IPython.display import Image as Image2\n",
    "Image2(filename=image_path)"
   ]
  },
  {
   "cell_type": "markdown",
   "id": "00395cb7",
   "metadata": {},
   "source": [
    "## Convert image to 2D matrix"
   ]
  },
  {
   "cell_type": "code",
   "execution_count": 4,
   "id": "d278a805",
   "metadata": {},
   "outputs": [],
   "source": [
    "img_mat = np.asanyarray(image) # convert it to 3D matrix (x,y,rgb) <-> rgb = (r,g,b)\n",
    "img_mat = np.array([[pix[:3] for pix in r ] for r in img_mat])"
   ]
  },
  {
   "cell_type": "code",
   "execution_count": 5,
   "id": "13ab00ff",
   "metadata": {},
   "outputs": [
    {
     "data": {
      "text/plain": [
       "(128, 128, 3)"
      ]
     },
     "execution_count": 5,
     "metadata": {},
     "output_type": "execute_result"
    }
   ],
   "source": [
    "img_mat.shape"
   ]
  },
  {
   "cell_type": "code",
   "execution_count": 6,
   "id": "2a817fc0",
   "metadata": {},
   "outputs": [],
   "source": [
    "n, m, rgb = img_mat.shape\n",
    "nb_clusters = 64"
   ]
  },
  {
   "cell_type": "code",
   "execution_count": 7,
   "id": "cf9d64c9",
   "metadata": {},
   "outputs": [],
   "source": [
    "img_mat = img_mat.reshape(n*m, rgb)"
   ]
  },
  {
   "cell_type": "markdown",
   "id": "8bbf18d9",
   "metadata": {},
   "source": [
    "## Color Occurrences"
   ]
  },
  {
   "cell_type": "code",
   "execution_count": 8,
   "id": "e576b10d",
   "metadata": {},
   "outputs": [],
   "source": [
    "colors_occ = {}\n",
    "for p in img_mat:\n",
    "    pix = \" \".join([str(rgb) for rgb in p])\n",
    "    if pix not in colors_occ:\n",
    "        colors_occ[pix] = 0\n",
    "    else:\n",
    "        colors_occ[pix]+=1"
   ]
  },
  {
   "cell_type": "markdown",
   "id": "d654ce3f",
   "metadata": {},
   "source": [
    "# Hex Values"
   ]
  },
  {
   "cell_type": "code",
   "execution_count": 9,
   "id": "7ecf0581",
   "metadata": {},
   "outputs": [],
   "source": [
    "def hex_score(pixel):\n",
    "    return sum(pixel)"
   ]
  },
  {
   "cell_type": "code",
   "execution_count": 10,
   "id": "8193d4f8",
   "metadata": {},
   "outputs": [],
   "source": [
    "colors_values = {}\n",
    "for p in img_mat:\n",
    "    pix = \" \".join([str(rgb) for rgb in p])\n",
    "    colors_values[pix] = hex_score(list(map(int, pix.split())))"
   ]
  },
  {
   "cell_type": "markdown",
   "id": "37e7267e",
   "metadata": {},
   "source": [
    "# My function Psy"
   ]
  },
  {
   "cell_type": "code",
   "execution_count": 11,
   "id": "3d80705a",
   "metadata": {},
   "outputs": [],
   "source": [
    "occ_mx = max(colors_occ.values())\n",
    "occ_mn = min(colors_occ.values())\n",
    "val_mx = max(colors_values.values())\n",
    "val_mn = min(colors_values.values())"
   ]
  },
  {
   "cell_type": "code",
   "execution_count": 12,
   "id": "175a214e",
   "metadata": {},
   "outputs": [],
   "source": [
    "def psy(color_occ, hex_value):\n",
    "    # standarization \n",
    "    \n",
    "    std_color_occ = (color_occ-occ_mn)/(occ_mx-occ_mn)\n",
    "    std_color_value = (hex_value - val_mn)/(val_mx-val_mn)\n",
    "    \n",
    "    # No STD\n",
    "    \n",
    "    #std_color_occ = color_occ\n",
    "    #std_color_value = hex_value\n",
    "    \n",
    "    if std_color_value == 0: return std_color_occ\n",
    "    return std_color_occ - std_color_value"
   ]
  },
  {
   "cell_type": "code",
   "execution_count": 13,
   "id": "4dccb7ae",
   "metadata": {},
   "outputs": [],
   "source": [
    "my_fun = {k: psy(colors_occ[k], colors_values[k]) for k in colors_occ}"
   ]
  },
  {
   "cell_type": "markdown",
   "id": "09ce49e0",
   "metadata": {},
   "source": [
    "## Use highest psy score"
   ]
  },
  {
   "cell_type": "code",
   "execution_count": 14,
   "id": "9de3647e",
   "metadata": {},
   "outputs": [],
   "source": [
    "srt_psy = sorted(my_fun.items(), key=lambda x:x[1])\n",
    "srt_psy = [list(map(int, elm[0].split())) for elm in srt_psy]\n",
    "clusters = srt_psy[::-1][:nb_clusters]\n",
    "clusters = [pix[:3] for pix in clusters]"
   ]
  },
  {
   "cell_type": "markdown",
   "id": "cadb9f03",
   "metadata": {},
   "source": [
    "## Get the highest occured colors"
   ]
  },
  {
   "cell_type": "code",
   "execution_count": 15,
   "id": "7287f6ef",
   "metadata": {},
   "outputs": [],
   "source": [
    "oc = sorted(colors_occ.items(), key=lambda x:x[1])\n",
    "oc = [list(map(int, elm[0].split())) for elm in oc]\n",
    "clusters = oc[::-1][:nb_clusters]\n",
    "clusters = [pix[:3] for pix in clusters]"
   ]
  },
  {
   "cell_type": "markdown",
   "id": "5b68d584",
   "metadata": {},
   "source": [
    "# KMeans Implementation"
   ]
  },
  {
   "cell_type": "code",
   "execution_count": 16,
   "id": "beea8e03",
   "metadata": {},
   "outputs": [],
   "source": [
    "def calc_dist(pixel, color):\n",
    "    ln = 3\n",
    "    dist = 0\n",
    "    for i in range(ln):\n",
    "        dist += (pixel[i]-color[i])**2\n",
    "    return np.sqrt(dist)"
   ]
  },
  {
   "cell_type": "code",
   "execution_count": 17,
   "id": "9dd63f75",
   "metadata": {},
   "outputs": [],
   "source": [
    "def rnd(x):\n",
    "    if (int(x)-x) >=0.5:\n",
    "        return int(x)+1\n",
    "    return int(x)"
   ]
  },
  {
   "cell_type": "code",
   "execution_count": 18,
   "id": "0a6bcd09",
   "metadata": {},
   "outputs": [],
   "source": [
    "def calc_mean(vals, mat):\n",
    "    mean = sum([mat[i]/len(vals) for i in vals])\n",
    "    return [rnd(x) for x in mean]"
   ]
  },
  {
   "cell_type": "code",
   "execution_count": 19,
   "id": "c40d9b1e",
   "metadata": {},
   "outputs": [],
   "source": [
    "def k_means(image, clusters, epochs=100):\n",
    "    print(\"[+] Compressing...\\n\")\n",
    "    nm, rgb_ = image.shape\n",
    "    nb_clustrers = len(clusters)\n",
    "    zdo = True\n",
    "    epoch = 0\n",
    "    while zdo and epoch<epochs: # for a better compression remove the second condition and just be patient :)\n",
    "        epoch += 1\n",
    "        common_clusters = [[] for i in range(nb_clustrers)]\n",
    "        zdo = False\n",
    "        for i in range(nm):\n",
    "            closer_dist = 500 # highest possible distance is 441,6\n",
    "            pix = list(image[i])\n",
    "            ind=0\n",
    "            # collect pixels in the same centroids\n",
    "            for k in range(nb_clustrers):\n",
    "                if calc_dist(pix, clusters[k]) < closer_dist:\n",
    "                    closer_dist = calc_dist(pix, clusters[k])\n",
    "                    ind=k\n",
    "            common_clusters[ind].append(i)\n",
    "            \n",
    "        # Redefine centroids\n",
    "        for k in range(nb_clustrers):\n",
    "            cmn = common_clusters[k]\n",
    "            if len(cmn) == 0:\n",
    "                continue\n",
    "            mean = calc_mean(cmn, image)\n",
    "            if clusters[k] != mean:\n",
    "                zdo = True\n",
    "            clusters[k] = mean\n",
    "            for x in cmn:\n",
    "                if sum(image[x]) > sum(mean):\n",
    "                    image[x] = mean\n",
    "                    continue\n",
    "                image[x] = mean\n",
    "        print(\"[+] Epochs :\", epoch)\n",
    "    return image"
   ]
  },
  {
   "cell_type": "code",
   "execution_count": 20,
   "id": "0ee9ca09",
   "metadata": {},
   "outputs": [],
   "source": [
    "image = img_mat.copy()"
   ]
  },
  {
   "cell_type": "code",
   "execution_count": 21,
   "id": "0ab399ed",
   "metadata": {},
   "outputs": [
    {
     "name": "stdout",
     "output_type": "stream",
     "text": [
      "[+] Compressing...\n",
      "\n",
      "[+] Epochs : 1\n",
      "[+] Epochs : 2\n",
      "[+] Epochs : 3\n",
      "[+] Epochs : 4\n",
      "[+] Epochs : 5\n",
      "[+] Epochs : 6\n",
      "[+] Epochs : 7\n",
      "[+] Epochs : 8\n",
      "[+] Epochs : 9\n",
      "[+] Epochs : 10\n",
      "[+] Epochs : 11\n",
      "[+] Epochs : 12\n",
      "[+] Epochs : 13\n",
      "[+] Epochs : 14\n",
      "[+] Epochs : 15\n",
      "[+] Epochs : 16\n",
      "[+] Epochs : 17\n",
      "[+] Epochs : 18\n",
      "[+] Epochs : 19\n",
      "[+] Epochs : 20\n",
      "[+] Epochs : 21\n",
      "[+] Epochs : 22\n",
      "[+] Epochs : 23\n",
      "[+] Epochs : 24\n",
      "[+] Epochs : 25\n",
      "[+] Epochs : 26\n",
      "[+] Epochs : 27\n",
      "[+] Epochs : 28\n",
      "[+] Epochs : 29\n",
      "[+] Epochs : 30\n",
      "[+] Epochs : 31\n",
      "[+] Epochs : 32\n",
      "[+] Epochs : 33\n",
      "[+] Epochs : 34\n"
     ]
    }
   ],
   "source": [
    "img = k_means(image, clusters)"
   ]
  },
  {
   "cell_type": "markdown",
   "id": "c399c526",
   "metadata": {},
   "source": [
    "## Reshape the image to 3D and save it"
   ]
  },
  {
   "cell_type": "code",
   "execution_count": 22,
   "id": "564676d5",
   "metadata": {},
   "outputs": [],
   "source": [
    "img = img.reshape(n, m, rgb)\n",
    "new_image = Image.fromarray(img)"
   ]
  },
  {
   "cell_type": "code",
   "execution_count": 23,
   "id": "64dc8613",
   "metadata": {},
   "outputs": [],
   "source": [
    "new_image.save(compressed_img)"
   ]
  },
  {
   "cell_type": "code",
   "execution_count": 24,
   "id": "7103607e",
   "metadata": {},
   "outputs": [
    {
     "data": {
      "image/jpeg": "[encoded data removed]",
      "text/plain": [
       "<IPython.core.display.Image object>"
      ]
     },
     "execution_count": 24,
     "metadata": {},
     "output_type": "execute_result"
    }
   ],
   "source": [
    "Image2(filename=compressed_img)"
   ]
  },
  {
   "cell_type": "markdown",
   "id": "c0069b48",
   "metadata": {},
   "source": [
    "## Size Comparaison"
   ]
  },
  {
   "cell_type": "code",
   "execution_count": 25,
   "id": "77cc208c",
   "metadata": {},
   "outputs": [
    {
     "name": "stdout",
     "output_type": "stream",
     "text": [
      "[+] Original Image Size : 6998 Bytes\n",
      "[+] Compressed Image Size : 5000 Bytes\n"
     ]
    }
   ],
   "source": [
    "org_img = os.stat(image_path).st_size\n",
    "cmp_img = os.stat(compressed_img).st_size\n",
    "print(f\"[+] Original Image Size : {org_img} Bytes\\n[+] Compressed Image Size : {cmp_img} Bytes\")"
   ]
  }
 ],
 "metadata": {
  "kernelspec": {
   "display_name": "Python 3 (ipykernel)",
   "language": "python",
   "name": "python3"
  },
  "language_info": {
   "codemirror_mode": {
    "name": "ipython",
    "version": 3
   },
   "file_extension": ".py",
   "mimetype": "text/x-python",
   "name": "python",
   "nbconvert_exporter": "python",
   "pygments_lexer": "ipython3",
   "version": "3.10.6"
  }
 },
 "nbformat": 4,
 "nbformat_minor": 5
}
