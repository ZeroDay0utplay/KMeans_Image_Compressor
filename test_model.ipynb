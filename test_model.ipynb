{
 "cells": [
  {
   "cell_type": "code",
   "execution_count": null,
   "id": "d0915b49",
   "metadata": {},
   "outputs": [],
   "source": [
    "import numpy as np\n",
    "from skimage import io\n",
    "import matplotlib.pyplot as plt\n",
    "from sklearn.cluster import KMeans"
   ]
  },
  {
   "cell_type": "code",
   "execution_count": null,
   "id": "26da8065",
   "metadata": {},
   "outputs": [],
   "source": [
    "plt.rcParams['figure.figsize'] = (20, 12)\n",
    "image = io.imread('src/me.jpg')\n",
    "labels = plt.axes(xticks=[], yticks=[])\n",
    "labels.imshow(image);"
   ]
  },
  {
   "cell_type": "code",
   "execution_count": null,
   "id": "9dca07ed",
   "metadata": {},
   "outputs": [],
   "source": [
    "rows = image.shape[0]\n",
    "cols = image.shape[1]\n",
    "image = image.reshape(rows*cols, 3)"
   ]
  },
  {
   "cell_type": "code",
   "execution_count": null,
   "id": "a3cae140",
   "metadata": {},
   "outputs": [],
   "source": [
    "kmeans = KMeans(n_clusters=64)\n",
    "kmeans.fit(image)"
   ]
  },
  {
   "cell_type": "code",
   "execution_count": null,
   "id": "e09d29eb",
   "metadata": {},
   "outputs": [],
   "source": [
    "compressed_image = kmeans.cluster_centers_[kmeans.labels_]\n",
    "compressed_image = np.clip(compressed_image.astype('uint8'), 0, 255)"
   ]
  },
  {
   "cell_type": "code",
   "execution_count": null,
   "id": "abee4251",
   "metadata": {},
   "outputs": [],
   "source": [
    "compressed_image = compressed_image.reshape(rows, cols, 3)"
   ]
  },
  {
   "cell_type": "code",
   "execution_count": null,
   "id": "a2cf9353",
   "metadata": {},
   "outputs": [],
   "source": [
    "io.imsave('src/me4.jpg', compressed_image)\n",
    "io.imshow(compressed_image)\n",
    "io.show()"
   ]
  },
  {
   "cell_type": "code",
   "execution_count": null,
   "id": "45f2e038",
   "metadata": {},
   "outputs": [],
   "source": []
  }
 ],
 "metadata": {
  "kernelspec": {
   "display_name": "Python 3 (ipykernel)",
   "language": "python",
   "name": "python3"
  },
  "language_info": {
   "codemirror_mode": {
    "name": "ipython",
    "version": 3
   },
   "file_extension": ".py",
   "mimetype": "text/x-python",
   "name": "python",
   "nbconvert_exporter": "python",
   "pygments_lexer": "ipython3",
   "version": "3.10.6"
  }
 },
 "nbformat": 4,
 "nbformat_minor": 5
}
