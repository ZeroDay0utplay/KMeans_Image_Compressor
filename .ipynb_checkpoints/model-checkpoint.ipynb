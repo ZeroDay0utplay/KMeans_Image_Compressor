{
 "cells": [
  {
   "cell_type": "markdown",
   "id": "52783123",
   "metadata": {},
   "source": [
    "# Importing Libraries"
   ]
  },
  {
   "cell_type": "code",
   "execution_count": 1,
   "id": "e57fc25f",
   "metadata": {},
   "outputs": [],
   "source": [
    "import numpy as np\n",
    "import pandas as pd\n",
    "import matplotlib.pyplot as plt\n",
    "from PIL import Image"
   ]
  },
  {
   "cell_type": "markdown",
   "id": "7930c02e",
   "metadata": {},
   "source": [
    "# Read the image"
   ]
  },
  {
   "cell_type": "code",
   "execution_count": 2,
   "id": "71ac637b",
   "metadata": {},
   "outputs": [],
   "source": [
    "image_path = \"src/me.jpg\"\n",
    "image_ext = image_path.split(\".\")[-1]\n",
    "image = Image.open(image_path)"
   ]
  },
  {
   "cell_type": "code",
   "execution_count": 3,
   "id": "d278a805",
   "metadata": {},
   "outputs": [],
   "source": [
    "img_mat = np.asanyarray(image) # convert it to 3D matrix (x,y,rgb) <-> rgb = (r,g,b)\n",
    "img_mat = np.array([[pix[:3] for pix in r ] for r in img_mat])"
   ]
  },
  {
   "cell_type": "code",
   "execution_count": 4,
   "id": "2a817fc0",
   "metadata": {},
   "outputs": [],
   "source": [
    "n, m, rgb = img_mat.shape\n",
    "nb_clusters = 64"
   ]
  },
  {
   "cell_type": "markdown",
   "id": "8bbf18d9",
   "metadata": {},
   "source": [
    "## Color Occurrences"
   ]
  },
  {
   "cell_type": "code",
   "execution_count": 5,
   "id": "e576b10d",
   "metadata": {},
   "outputs": [],
   "source": [
    "colors_occ = {}\n",
    "for r in img_mat:\n",
    "    for col in r:\n",
    "        pix = \" \".join([str(rgb) for rgb in col])\n",
    "        if pix not in colors_occ:\n",
    "            colors_occ[pix] = 0\n",
    "        else:\n",
    "            colors_occ[pix]+=1"
   ]
  },
  {
   "cell_type": "markdown",
   "id": "d654ce3f",
   "metadata": {},
   "source": [
    "# Hex Values"
   ]
  },
  {
   "cell_type": "code",
   "execution_count": 6,
   "id": "7ecf0581",
   "metadata": {},
   "outputs": [],
   "source": [
    "def hex_score(pixel):\n",
    "    return sum(pixel)"
   ]
  },
  {
   "cell_type": "code",
   "execution_count": 7,
   "id": "8193d4f8",
   "metadata": {},
   "outputs": [],
   "source": [
    "colors_values = {}\n",
    "for r in img_mat:\n",
    "    for col in r:\n",
    "        pix = \" \".join([str(rgb) for rgb in col])\n",
    "        colors_values[pix] = hex_score(list(map(int, pix.split())))"
   ]
  },
  {
   "cell_type": "markdown",
   "id": "37e7267e",
   "metadata": {},
   "source": [
    "# My function Psy"
   ]
  },
  {
   "cell_type": "code",
   "execution_count": 8,
   "id": "3d80705a",
   "metadata": {},
   "outputs": [],
   "source": [
    "occ_mx = max(colors_occ.values())\n",
    "occ_mn = min(colors_occ.values())\n",
    "val_mx = max(colors_values.values())\n",
    "val_mn = min(colors_values.values())"
   ]
  },
  {
   "cell_type": "code",
   "execution_count": 9,
   "id": "175a214e",
   "metadata": {},
   "outputs": [],
   "source": [
    "def psy(color_occ, hex_value):\n",
    "    # standarization \n",
    "    \n",
    "    std_color_occ = (color_occ-occ_mn)/(occ_mx-occ_mn)\n",
    "    std_color_value = (hex_value - val_mn)/(val_mx-val_mn)\n",
    "    \n",
    "    # No STD\n",
    "    \n",
    "    #std_color_occ = color_occ\n",
    "    #std_color_value = hex_value\n",
    "    \n",
    "    if std_color_value == 0: return std_color_occ\n",
    "    return std_color_occ - std_color_value"
   ]
  },
  {
   "cell_type": "code",
   "execution_count": 10,
   "id": "4dccb7ae",
   "metadata": {},
   "outputs": [],
   "source": [
    "my_fun = {k: psy(colors_occ[k], colors_values[k]) for k in colors_occ}"
   ]
  },
  {
   "cell_type": "markdown",
   "id": "09ce49e0",
   "metadata": {},
   "source": [
    "## Use highest psy score"
   ]
  },
  {
   "cell_type": "code",
   "execution_count": 11,
   "id": "9de3647e",
   "metadata": {},
   "outputs": [],
   "source": [
    "srt_psy = sorted(my_fun.items(), key=lambda x:x[1])\n",
    "srt_psy = [list(map(int, elm[0].split())) for elm in srt_psy]\n",
    "clusters = srt_psy[::-1][:nb_clusters]\n",
    "clusters = [pix[:3] for pix in clusters]"
   ]
  },
  {
   "cell_type": "markdown",
   "id": "cadb9f03",
   "metadata": {},
   "source": [
    "## Get the highest occured colors"
   ]
  },
  {
   "cell_type": "code",
   "execution_count": 13,
   "id": "7287f6ef",
   "metadata": {},
   "outputs": [
    {
     "ename": "NameError",
     "evalue": "name 'nbclusters' is not defined",
     "output_type": "error",
     "traceback": [
      "\u001b[0;31m---------------------------------------------------------------------------\u001b[0m",
      "\u001b[0;31mNameError\u001b[0m                                 Traceback (most recent call last)",
      "Cell \u001b[0;32mIn [13], line 3\u001b[0m\n\u001b[1;32m      1\u001b[0m oc \u001b[38;5;241m=\u001b[39m \u001b[38;5;28msorted\u001b[39m(colors_occ\u001b[38;5;241m.\u001b[39mitems(), key\u001b[38;5;241m=\u001b[39m\u001b[38;5;28;01mlambda\u001b[39;00m x:x[\u001b[38;5;241m1\u001b[39m])\n\u001b[1;32m      2\u001b[0m oc \u001b[38;5;241m=\u001b[39m [\u001b[38;5;28mlist\u001b[39m(\u001b[38;5;28mmap\u001b[39m(\u001b[38;5;28mint\u001b[39m, elm[\u001b[38;5;241m0\u001b[39m]\u001b[38;5;241m.\u001b[39msplit())) \u001b[38;5;28;01mfor\u001b[39;00m elm \u001b[38;5;129;01min\u001b[39;00m oc]\n\u001b[0;32m----> 3\u001b[0m clusters \u001b[38;5;241m=\u001b[39m oc[::\u001b[38;5;241m-\u001b[39m\u001b[38;5;241m1\u001b[39m][:\u001b[43mnbclusters\u001b[49m]\n\u001b[1;32m      4\u001b[0m clusters \u001b[38;5;241m=\u001b[39m [pix[:\u001b[38;5;241m3\u001b[39m] \u001b[38;5;28;01mfor\u001b[39;00m pix \u001b[38;5;129;01min\u001b[39;00m clusters]\n",
      "\u001b[0;31mNameError\u001b[0m: name 'nbclusters' is not defined"
     ]
    }
   ],
   "source": [
    "oc = sorted(colors_occ.items(), key=lambda x:x[1])\n",
    "oc = [list(map(int, elm[0].split())) for elm in oc]\n",
    "clusters = oc[::-1][:nb_clusters]\n",
    "clusters = [pix[:3] for pix in clusters]"
   ]
  },
  {
   "cell_type": "code",
   "execution_count": null,
   "id": "beea8e03",
   "metadata": {},
   "outputs": [],
   "source": [
    "def calc_dist(pixel, color):\n",
    "    ln = 3\n",
    "    dist = 0\n",
    "    for i in range(ln):\n",
    "        dist += (pixel[i]-color[i])**2\n",
    "    return np.sqrt(dist)"
   ]
  },
  {
   "cell_type": "code",
   "execution_count": null,
   "id": "9dd63f75",
   "metadata": {},
   "outputs": [],
   "source": [
    "def rnd(x):\n",
    "    if (int(x)-x) >=0.5:\n",
    "        return int(x)+1\n",
    "    return int(x)"
   ]
  },
  {
   "cell_type": "code",
   "execution_count": null,
   "id": "0a6bcd09",
   "metadata": {},
   "outputs": [],
   "source": [
    "def calc_mean(vals, mat):\n",
    "    mean = sum([mat[i[0],i[1]]/len(vals) for i in vals])\n",
    "    return [rnd(x) for x in mean]"
   ]
  },
  {
   "cell_type": "code",
   "execution_count": null,
   "id": "c40d9b1e",
   "metadata": {},
   "outputs": [],
   "source": [
    "def k_means(image, clusters):\n",
    "    n, m, rgb_ = image.shape\n",
    "    nb_clustrers = len(clusters)\n",
    "    zdo = True\n",
    "    while zdo:\n",
    "        common_clusters = [[] for i in range(nb_clustrers)]\n",
    "        zdo = False\n",
    "        for i in range(n):\n",
    "            for j in range(m):\n",
    "                closer_dist = 500 # highest possible distance is 441,6\n",
    "                pix = list(image[i][j])\n",
    "                ind=0\n",
    "                for k in range(nb_clustrers):\n",
    "                    if calc_dist(pix, clusters[k]) < closer_dist:\n",
    "                        closer_dist = calc_dist(pix, clusters[k])\n",
    "                        ind=k\n",
    "                common_clusters[ind].append((i,j))\n",
    "\n",
    "        for k in range(nb_clustrers):\n",
    "            cmn = common_clusters[k]\n",
    "            if len(cmn) == 0:\n",
    "                continue\n",
    "            mean = calc_mean(cmn, image)\n",
    "            if clusters[k] != mean:\n",
    "                zdo = True\n",
    "            clusters[k] = mean\n",
    "            for x in cmn:\n",
    "                image[x[0], x[1]] = clusters[k]          \n",
    "    return image"
   ]
  },
  {
   "cell_type": "code",
   "execution_count": null,
   "id": "0ee9ca09",
   "metadata": {},
   "outputs": [],
   "source": [
    "image = img_mat.copy()"
   ]
  },
  {
   "cell_type": "code",
   "execution_count": null,
   "id": "0ab399ed",
   "metadata": {},
   "outputs": [],
   "source": [
    "img = k_means(image, clusters)"
   ]
  },
  {
   "cell_type": "code",
   "execution_count": null,
   "id": "564676d5",
   "metadata": {},
   "outputs": [],
   "source": [
    "new_image = Image.fromarray(img)"
   ]
  },
  {
   "cell_type": "code",
   "execution_count": null,
   "id": "64dc8613",
   "metadata": {},
   "outputs": [],
   "source": [
    "new_image.save(\"src/output.\"+image_ext)"
   ]
  },
  {
   "cell_type": "code",
   "execution_count": null,
   "id": "2949920a",
   "metadata": {},
   "outputs": [],
   "source": []
  }
 ],
 "metadata": {
  "kernelspec": {
   "display_name": "Python 3 (ipykernel)",
   "language": "python",
   "name": "python3"
  },
  "language_info": {
   "codemirror_mode": {
    "name": "ipython",
    "version": 3
   },
   "file_extension": ".py",
   "mimetype": "text/x-python",
   "name": "python",
   "nbconvert_exporter": "python",
   "pygments_lexer": "ipython3",
   "version": "3.10.6"
  }
 },
 "nbformat": 4,
 "nbformat_minor": 5
}
